{
 "cells": [
  {
   "cell_type": "markdown",
   "id": "23b5ce59-9c6e-4102-8a3f-94b4f8fd68b3",
   "metadata": {},
   "source": [
    "# Assignment \n",
    "## <font color=\"blue\">Linear_Transformation</font>\n",
    "##### `Queeny Mae Escabarte`\n",
    "---"
   ]
  },
  {
   "cell_type": "markdown",
   "id": "3b2122dc-8dcd-4571-833f-af0f90b65a5f",
   "metadata": {},
   "source": [
    "$\\textbf{Code Challenges}$\n",
    "\n",
    "1. Develop a python function from scratch that will find the determinants of any $n \\times n$ matrix.\n",
    "\n",
    "2. Develop a python function from scratch that will find both the eigenvectors and eigenvalues of any $n \\times n$ matrix.\n",
    "\n",
    "3. Test your functions from a randomly generated $n \\times n$ matrix."
   ]
  },
  {
   "cell_type": "code",
   "execution_count": 17,
   "id": "bb89a500-275e-4378-b76f-578f356b826e",
   "metadata": {},
   "outputs": [
    {
     "name": "stdout",
     "output_type": "stream",
     "text": [
      "Randomly Generated Matrix:\n",
      "[[-5, -2, -10], [-5, -3, -6], [5, -6, -3]]\n",
      "\n",
      "Determinant of the matrix: -225\n",
      "\n",
      "Eigenvalues of the matrix: -9.000000000000002\n",
      "\n",
      "Eigenvectors of the matrix:\n",
      "[0.6910310773687838, 0.7102263850734722, 0.13436715393281906]\n",
      "\n"
     ]
    }
   ],
   "source": [
    "import random\n",
    "\n",
    "def determinant(matrix):\n",
    "    size = len(matrix)\n",
    "    if size == 1:\n",
    "        return matrix[0][0]\n",
    "    det = 0\n",
    "    for i in range(size):\n",
    "        minor = [row[:i] + row[i+1:] for row in matrix[1:]]\n",
    "        det += matrix[0][i] * ((-1) ** i) * determinant(minor)\n",
    "    return det\n",
    "\n",
    "def dot_product(vector1, vector2):\n",
    "    return sum(x * y for x, y in zip(vector1, vector2))\n",
    "\n",
    "def scalar_multiply(scalar, vector):\n",
    "    return [scalar * x for x in vector]\n",
    "\n",
    "def subtract_vectors(vector1, vector2):\n",
    "    return [x - y for x, y in zip(vector1, vector2)]\n",
    "\n",
    "def normalize(vector):\n",
    "    magnitude = sum(x ** 2 for x in vector) ** 0.5\n",
    "    return [x / magnitude for x in vector]\n",
    "\n",
    "def matrix_vector_multiply(matrix, vector):\n",
    "    return [dot_product(row, vector) for row in matrix]\n",
    "\n",
    "def find_eigen(matrix, num_iterations=1000, tolerance=1e-10):\n",
    "    size = len(matrix)\n",
    "    \n",
    "    # Initialize a random vector as the initial approximation for the eigenvector\n",
    "    eigenvector = [1.0] * size\n",
    "    \n",
    "    for _ in range(num_iterations):\n",
    "        # Matrix-vector multiplication\n",
    "        matrix_times_vector = matrix_vector_multiply(matrix, eigenvector)\n",
    "        \n",
    "        # Eigenvalue approximation\n",
    "        eigenvalue = dot_product(matrix_times_vector, eigenvector)\n",
    "        \n",
    "        # Normalize the eigenvector\n",
    "        eigenvector = normalize(matrix_times_vector)\n",
    "        \n",
    "        # Check for convergence\n",
    "        if abs(dot_product(eigenvector, matrix_times_vector) - eigenvalue) < tolerance:\n",
    "            break\n",
    "    \n",
    "    return eigenvalue, eigenvector\n",
    "\n",
    "n = 3\n",
    "random_matrix = [[random.randint(-10, 10) for _ in range(n)] for _ in range(n)]\n",
    "det_result = determinant(random_matrix)\n",
    "eigenvalues, eigenvectors = find_eigen(random_matrix)\n",
    "print(f\"Randomly Generated Matrix:\\n{random_matrix}\\n\")\n",
    "print(f\"Determinant of the matrix: {det_result}\\n\")\n",
    "print(f\"Eigenvalues of the matrix: {eigenvalues}\\n\")\n",
    "print(f\"Eigenvectors of the matrix:\\n{eigenvectors}\\n\")"
   ]
  },
  {
   "cell_type": "code",
   "execution_count": null,
   "id": "a78494e2-528b-4874-9950-38dfbd66a61f",
   "metadata": {},
   "outputs": [],
   "source": []
  }
 ],
 "metadata": {
  "kernelspec": {
   "display_name": "Python 3 (ipykernel)",
   "language": "python",
   "name": "python3"
  },
  "language_info": {
   "codemirror_mode": {
    "name": "ipython",
    "version": 3
   },
   "file_extension": ".py",
   "mimetype": "text/x-python",
   "name": "python",
   "nbconvert_exporter": "python",
   "pygments_lexer": "ipython3",
   "version": "3.11.5"
  }
 },
 "nbformat": 4,
 "nbformat_minor": 5
}
