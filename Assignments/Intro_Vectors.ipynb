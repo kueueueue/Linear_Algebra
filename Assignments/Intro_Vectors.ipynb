{
 "cells": [
  {
   "cell_type": "markdown",
   "id": "41282a34-b971-4622-afbf-b7287dd75165",
   "metadata": {},
   "source": [
    "# Assignment \n",
    "## <font color=\"blue\">Introduction_Vectors</font>\n",
    "##### `Queeny Mae Escabarte`\n",
    "---"
   ]
  },
  {
   "cell_type": "markdown",
   "id": "d6a88713-0c54-418a-aeef-9ed2ab258e7b",
   "metadata": {},
   "source": [
    "### 1. Let $\\textbf{u} = (1, -2, 4)$ and $\\textbf{v} = (3,5,1)$ $\\textbf{w} = (2,1,-3)$"
   ]
  },
  {
   "cell_type": "markdown",
   "id": "3cd776cb-1d9d-48de-a2e0-3973a5874d22",
   "metadata": {},
   "source": [
    "#### <font color=\"red\">Manual Solution</font>"
   ]
  },
  {
   "cell_type": "markdown",
   "id": "dac5edea-3524-48ad-b582-c86adc149ea2",
   "metadata": {},
   "source": [
    " a. $3\\textbf{u}-2\\textbf{v}$<br>\n",
    " - $3u' - 2v'$<br>\n",
    "  $3\\begin{bmatrix}1 \\\\ -2\\\\ 4\\end{bmatrix} - 2\\begin{bmatrix}3 \\\\ 5\\\\ 1\\end{bmatrix} = \\begin{bmatrix}3 \\\\ -6\\\\ 12\\end{bmatrix} - \\begin{bmatrix}6 \\\\ 10\\\\ 2\\end{bmatrix} = \\begin{bmatrix}-3 \\\\ -16\\\\ 10\\end{bmatrix} = (-3, -16, 10) $"
   ]
  },
  {
   "cell_type": "markdown",
   "id": "0fa4172d-c2de-45bd-8ea6-872b1cd58606",
   "metadata": {},
   "source": [
    "b. $5\\textbf{u}+3\\textbf{v}-4\\textbf{w}$<br>\n",
    "- $5u' + 3v' - 4w'$ <br>\n",
    " $5\\begin{bmatrix}1 \\\\ -2\\\\ 4\\end{bmatrix} + 3\\begin{bmatrix}3 \\\\ 5\\\\ 1\\end{bmatrix} - 4\\begin{bmatrix}2 \\\\ 1\\\\ -3\\end{bmatrix} = \\begin{bmatrix}5 \\\\ -10\\\\ 20\\end{bmatrix} + \\begin{bmatrix}9 \\\\ 15\\\\ 3\\end{bmatrix} - \\begin{bmatrix}8 \\\\ 4\\\\ -12\\end{bmatrix} = \\begin{bmatrix}6 \\\\ 1\\\\ 35\\end{bmatrix}$"
   ]
  },
  {
   "cell_type": "markdown",
   "id": "05f453ce-c677-4e25-8d8b-276ea126bab4",
   "metadata": {},
   "source": [
    "c. $\\textbf{u} \\cdotp \\textbf{v}$,$\\textbf{v} \\cdotp \\textbf{w}$, $\\textbf{u} \\cdotp \\textbf{w}$<br>\n",
    " - $u \\cdot v = u' \\cdot v'$<br>\n",
    " $\\begin{bmatrix}1 \\\\ -2\\\\ 4\\end{bmatrix} \\cdot \\begin{bmatrix}3 \\\\ 5\\\\ 1\\end{bmatrix} = \\begin{bmatrix}3 \\\\ -10\\\\ 4\\end{bmatrix} = -3$ <br>\n",
    " - $v \\cdot w = v' \\cdot w'$ <br>\n",
    " $\\begin{bmatrix}3 \\\\ 5\\\\ 1\\end{bmatrix} \\cdot \\begin{bmatrix}2 \\\\ 1\\\\ -3\\end{bmatrix} = \\begin{bmatrix}6 \\\\ 5\\\\ -3\\end{bmatrix} = 8$ <br>\n",
    " - $u \\cdot w = u' \\cdot w' $ <br>\n",
    " $\\begin{bmatrix}1 \\\\ -2\\\\ 4\\end{bmatrix} \\cdot \\begin{bmatrix}2 \\\\ 1\\\\ -3\\end{bmatrix} = \\begin{bmatrix}2 \\\\ -2\\\\ -12\\end{bmatrix} = -12$"
   ]
  },
  {
   "cell_type": "markdown",
   "id": "67cede88-7f7e-4d82-ae29-49df4b58495e",
   "metadata": {},
   "source": [
    "d. ||$\\textbf{u}$||, ||$\\textbf{v}$||, ||$\\textbf{w}$||<br>\n",
    "- $ ||u|| =  \\sqrt{1^2 + (-2)^2 + 4^2} = \\sqrt{1+4+16} = \\sqrt{21} $ <br>\n",
    "- $ ||v|| = \\sqrt{3^2 + 5^2 + 1^2} = \\sqrt{9+25+1} = \\sqrt{35} $ <br>\n",
    "- $ ||w|| = \\sqrt{2^2 + 1^2 + (-3)^2} = \\sqrt{4+1+9} = \\sqrt{14} $"
   ]
  },
  {
   "cell_type": "markdown",
   "id": "b0c64080-9977-45aa-970b-dd1fb98d675e",
   "metadata": {},
   "source": [
    "e. If $\\theta$ is the angle between $\\textbf{u}$  and   $\\textbf{v}$, find $\\cos{\\theta}$.<br>\n",
    "- $ cos\\theta = \\frac{u \\cdot v}{\\left\\|u\\right\\| \\left\\|v\\right\\|} = \\frac{-3}{\\sqrt{21} \\sqrt{35}} $"
   ]
  },
  {
   "cell_type": "markdown",
   "id": "52c55351-950c-4e0f-a996-9968a2e6cc69",
   "metadata": {},
   "source": [
    "f. If $\\alpha$ is the angle between $\\textbf{v}$  and   $\\textbf{w}$, find $\\cos{\\alpha}$.<br>\n",
    "- $ cos\\alpha = \\frac{v \\cdot w}{\\left\\|v\\right\\| \\left\\|w\\right\\|} = \\frac{8}{\\sqrt{35} \\sqrt{14}} $"
   ]
  },
  {
   "cell_type": "markdown",
   "id": "c8ac4981-ba9c-408a-8338-8f3aafd574e8",
   "metadata": {},
   "source": [
    "g. If $\\beta$ is the angle between $\\textbf{u}$  and   $\\textbf{w}$, find $\\cos{\\beta}$.<br>\n",
    "   - $ cos\\beta = \\frac{u \\cdot w}{\\left\\|u\\right\\| \\left\\|w\\right\\|} = \\frac{-12}{\\sqrt{21} \\sqrt{14}} $"
   ]
  },
  {
   "cell_type": "markdown",
   "id": "2a0edcaa-d2c5-4dfd-a7b1-17fee5708e1d",
   "metadata": {},
   "source": [
    "h. Find $d(\\textbf{u},\\textbf{v})$.<br>\n",
    "- $||u-v|| = \\left\\|\\begin{bmatrix}1 \\\\ -2\\\\ 4\\end{bmatrix} - \\begin{bmatrix}3 \\\\ 5\\\\ 1\\end{bmatrix}\\right\\| = \\left\\|\\begin{bmatrix}-2 \\\\ -7\\\\ 3\\end{bmatrix}\\right\\| = \\sqrt{(-2)^2 + (-7)^2 + 3^2} = \\sqrt{4+49+9} = \\sqrt{62}\n",
    "$"
   ]
  },
  {
   "cell_type": "markdown",
   "id": "3043315a-9bea-4c08-950e-778127ae14a8",
   "metadata": {},
   "source": [
    "i. Find $d(\\textbf{w},\\textbf{v})$.<br>\n",
    "- $||w-v|| \\left\\|\\begin{bmatrix}2 \\\\ 1\\\\ -3\\end{bmatrix} - \\begin{bmatrix}3 \\\\ 5\\\\ 1\\end{bmatrix}\\right\\| = \\left\\|\\begin{bmatrix}-1 \\\\ -4\\\\ -4\\end{bmatrix}\\right\\| = \\sqrt{(-1)^2 + (-4)^2 + (-4)^2} = \\sqrt{1+16+16} = \\sqrt{33}\n",
    "$"
   ]
  },
  {
   "cell_type": "markdown",
   "id": "4cf7abb1-bf5c-46a9-9ce2-6821bd3c7c04",
   "metadata": {},
   "source": [
    "j. Find $d(\\textbf{u},\\textbf{w})$. <br>\n",
    "- $||u-w|| = \\left\\|\\begin{bmatrix}1 \\\\ -2\\\\ 4\\end{bmatrix} - \\begin{bmatrix}2 \\\\ 1\\\\ -3\\end{bmatrix}\\right\\| = \\left\\|\\begin{bmatrix}-1 \\\\ -3\\\\ 7\\end{bmatrix}\\right\\| = \\sqrt{(-1)^2 + (-3)^2 + 7^2} = \\sqrt{1+9+49} = \\sqrt{59}\n",
    "$"
   ]
  },
  {
   "cell_type": "markdown",
   "id": "d2b8f0d9-4644-4e0c-a579-efbfa018fe8f",
   "metadata": {},
   "source": [
    "k. Find $proj(\\textbf{u},\\textbf{v})$.<br>\n",
    "- $proj(u,v) = \\frac{u \\cdot v}{\\|v\\|^2} \\cdot v = \\frac{-3}{35} \\cdot \\begin{bmatrix}3 \\\\ 5\\\\ 1\\end{bmatrix} = (-\\frac{9}{35}, -\\frac{3}{7}, -\\frac{3}{35})$"
   ]
  },
  {
   "cell_type": "markdown",
   "id": "b20b29c6-3f50-4d6b-9901-672dc6bef3df",
   "metadata": {},
   "source": [
    "l. Find $proj(\\textbf{w},\\textbf{v})$.<br>\n",
    "- $\\frac{w \\cdot v}{\\|v\\|^2} \\cdot v = \\frac{8}{35} \\cdot \\begin{bmatrix}3 \\\\ 5\\\\ 1\\end{bmatrix} = (\\frac{24}{35}, \\frac{8}{7}, \\frac{8}{35})$"
   ]
  },
  {
   "cell_type": "markdown",
   "id": "68e7d547-f998-4fd3-bf79-4089ca2a07d0",
   "metadata": {},
   "source": [
    "m. Find $proj(\\textbf{u},\\textbf{w})$. <br>  \n",
    "- $ \\frac{u \\cdot w}{\\|w\\|^2} \\cdot w = \\frac{-12}{14} \\cdot \\begin{bmatrix}2 \\\\ 1\\\\ -3\\end{bmatrix} = (-\\frac{12}{7}, -\\frac{6}{7}, \\frac{18}{7})$"
   ]
  },
  {
   "cell_type": "markdown",
   "id": "7ec3b371-eeff-49ee-bcbf-d015edf82c27",
   "metadata": {},
   "source": [
    "#### <font color=\"red\">Pythonic Solution</font>"
   ]
  },
  {
   "cell_type": "code",
   "execution_count": 185,
   "id": "fa93ce6e-d473-4971-8523-6f783b6d0674",
   "metadata": {},
   "outputs": [
    {
     "name": "stdout",
     "output_type": "stream",
     "text": [
      "-3\n",
      "a. 3𝐮-2𝐯:  [ -3 -16  10]\n",
      "b. 5𝐮+3𝐯-𝐰:  [ 6  1 35]\n",
      "c. 𝐮.𝐯:  -3\n",
      "   𝐯.𝐰:  8\n",
      "   𝐮.𝐰:  -12\n",
      "d. ||𝐮||: 4.58257569495584\n",
      "   ||𝐯||: 5.916079783099616\n",
      "   ||𝐰||: 3.7416573867739413\n",
      "e. cos θ:  -0.11065666703449763\n",
      "f. cos α:  0.36140316116210053\n",
      "g. cos β:  -0.6998542122237653\n",
      "h. d(𝐮,𝐯):  7.874007874011811\n",
      "i. d(𝐰,𝐯):  5.744562646538029\n",
      "j. d(𝐮,𝐰):  7.681145747868608\n",
      "k. proj(𝐮,𝐯):  [-0.25714286 -0.42857143 -0.08571429]\n",
      "l. proj(𝐰,𝐯):  [0.68571429 1.14285714 0.22857143]\n",
      "m. proj(𝐮,𝐰):  [-1.71428571 -0.85714286  2.57142857]\n"
     ]
    }
   ],
   "source": [
    "import numpy as np\n",
    "def equ(x, var):\n",
    "    try:\n",
    "        return eval(x, var)\n",
    "    except ValueError:\n",
    "        return \"error\"\n",
    "\n",
    "u = np.array([1, -2, 4])\n",
    "v = np.array([3, 5, 1])\n",
    "w = np.array([2, 1, -3])\n",
    "var = {'u': u, 'v': v, 'w': w, 'np': np}\n",
    "print(\"a. 3𝐮-2𝐯: \", eval(\"(3*u)-(2*v)\", var)) \n",
    "print(\"b. 5𝐮+3𝐯-𝐰: \", eval(\"(5*u)+(3*v)-(4*w)\", var)) \n",
    "print(\"c. 𝐮.𝐯: \", eval(\"u.dot(v)\", var)) \n",
    "print(\"   𝐯.𝐰: \", eval(\"v.dot(w)\", var)) \n",
    "print(\"   𝐮.𝐰: \", eval(\"u.dot(w)\", var)) \n",
    "print(\"d. ||𝐮||:\", eval(\"np.sqrt(u.dot(u))\", var)) \n",
    "print(\"   ||𝐯||:\", eval(\"np.sqrt(v.dot(v))\", var)) \n",
    "print(\"   ||𝐰||:\", eval(\"np.sqrt(w.dot(w))\", var)) \n",
    "print(\"e. cos θ: \", eval(\"u.dot(v)/(np.linalg.norm(u)*np.linalg.norm(v))\", var)) \n",
    "print(\"f. cos α: \", eval(\"v.dot(w)/(np.linalg.norm(v)*np.linalg.norm(w))\", var)) \n",
    "print(\"g. cos β: \", eval(\"u.dot(w)/(np.linalg.norm(u)*np.linalg.norm(w))\", var)) \n",
    "print(\"h. d(𝐮,𝐯): \", eval(\"np.linalg.norm(u-v)\", var)) \n",
    "print(\"i. d(𝐰,𝐯): \", eval(\"np.linalg.norm(w-v)\", var)) \n",
    "print(\"j. d(𝐮,𝐰): \", eval(\"np.linalg.norm(u-w)\", var)) \n",
    "print(\"k. proj(𝐮,𝐯): \", eval(\"u.dot(v)*v/(np.linalg.norm(v)**2)\", var)) \n",
    "print(\"l. proj(𝐰,𝐯): \", eval(\"w.dot(v)*v/(np.linalg.norm(v)**2)\", var)) \n",
    "print(\"m. proj(𝐮,𝐰): \", eval(\"u.dot(w)*w/(np.linalg.norm(w)**2)\", var)) "
   ]
  },
  {
   "cell_type": "markdown",
   "id": "1fd27101-e07e-4a76-a479-df5f359aa0cb",
   "metadata": {},
   "source": [
    "---\n",
    "### 2. Repeat problem 1 with the following column vectors:\n",
    "##### $\\textbf{u} = \\begin{bmatrix} 1\\\\ 3 \\\\ -4 \\end{bmatrix} \\textbf{v} = \\begin{bmatrix} 2 \\\\ 1 \\\\ 5 \\end{bmatrix}, \\textbf{w} = \\begin{bmatrix} 3 \\\\ -2 \\\\ 6 \\end{bmatrix}$"
   ]
  },
  {
   "cell_type": "markdown",
   "id": "cc77b367-6d75-4ced-9e24-4921579bddbd",
   "metadata": {},
   "source": [
    "#### <font color=\"red\">Manual Solution</font>"
   ]
  },
  {
   "cell_type": "markdown",
   "id": "3caca32d-dfed-4132-9d7f-8663fb1d57ac",
   "metadata": {},
   "source": [
    " a. $3\\textbf{u}-2\\textbf{v}$<br>\n",
    " - $3\\begin{bmatrix}1 \\\\ 3\\\\ -4\\end{bmatrix} - 2\\begin{bmatrix}2 \\\\ 1\\\\ 5\\end{bmatrix} = \\begin{bmatrix}3 \\\\ 9\\\\ -12\\end{bmatrix} - \\begin{bmatrix}4 \\\\ 2\\\\ 10\\end{bmatrix} = \\begin{bmatrix}-1 \\\\ 7\\\\ -22\\end{bmatrix} = (-1, 7, -22) $"
   ]
  },
  {
   "cell_type": "markdown",
   "id": "95d85e07-12b0-4cc1-91ba-f6a1408ed7ca",
   "metadata": {},
   "source": [
    "b. $5\\textbf{u}+3\\textbf{v}-4\\textbf{w}$<br>\n",
    "- $5\\begin{bmatrix}1 \\\\ 3\\\\ -4\\end{bmatrix} + 3\\begin{bmatrix}2 \\\\ 1\\\\ 5\\end{bmatrix} - 4\\begin{bmatrix}3 \\\\ -2\\\\ 6\\end{bmatrix} = \\begin{bmatrix}5 \\\\ 15\\\\ -20\\end{bmatrix} + \\begin{bmatrix}6 \\\\ 3\\\\ 15\\end{bmatrix} - \\begin{bmatrix}12 \\\\ -8\\\\ 24\\end{bmatrix} = \\begin{bmatrix}-1 \\\\ 26\\\\ -29\\end{bmatrix}$"
   ]
  },
  {
   "cell_type": "markdown",
   "id": "26fdb182-58d4-4210-a2cf-2b88f08a5da7",
   "metadata": {},
   "source": [
    "c. $\\textbf{u} \\cdotp \\textbf{v}$,$\\textbf{v} \\cdotp \\textbf{w}$, $\\textbf{u} \\cdotp \\textbf{w}$<br>\n",
    "- $u \\cdot v =  \\begin{bmatrix}1 \\\\ 3\\\\ -4\\end{bmatrix} \\cdot \\begin{bmatrix}2 \\\\ 1\\\\ 5\\end{bmatrix} = \\begin{bmatrix}2 \\\\ 3\\\\ -20\\end{bmatrix} = -15$ <br>\n",
    "- $v \\cdot w  = \\begin{bmatrix}2 \\\\ 1\\\\ 5\\end{bmatrix} \\cdot \\begin{bmatrix}3 \\\\ -2\\\\ 6\\end{bmatrix} = \\begin{bmatrix}6 \\\\ -2\\\\30\\end{bmatrix} = 34$ <br>\n",
    "- $u \\cdot w  = \\begin{bmatrix}1 \\\\ 3\\\\ -4\\end{bmatrix} \\cdot \\begin{bmatrix}3 \\\\ -2\\\\ 6\\end{bmatrix} = \\begin{bmatrix}3 \\\\ -6\\\\ -24\\end{bmatrix} = -27$"
   ]
  },
  {
   "cell_type": "markdown",
   "id": "b0cb6388-31e4-490f-9d99-f0e31a4469bd",
   "metadata": {},
   "source": [
    "d. ||$\\textbf{u}$||, ||$\\textbf{v}$||, ||$\\textbf{w}$||<br>\n",
    "- $ ||u|| =  \\sqrt{1^2 + 3^2 + (-4)^2} = \\sqrt{1+9+16} = \\sqrt{26} $ <br>\n",
    "- $ ||v|| = \\sqrt{2^2 + 1^2 + 5^2} = \\sqrt{4+1+25} = \\sqrt{30} $ <br>\n",
    "- $ ||w|| = \\sqrt{3^2 + (-2)^2 + 6^2} = \\sqrt{9+4+36} = \\sqrt{49} = 7 $"
   ]
  },
  {
   "cell_type": "markdown",
   "id": "b6147b2d-5089-4a30-abce-30af2d126d1c",
   "metadata": {},
   "source": [
    "e. If $\\theta$ is the angle between $\\textbf{u}$  and   $\\textbf{v}$, find $\\cos{\\theta}$.<br>\n",
    "- $ cos\\theta = \\frac{u \\cdot v}{\\left\\|u\\right\\| \\left\\|v\\right\\|} = \\frac{-15}{\\sqrt{26} \\sqrt{30}} $"
   ]
  },
  {
   "cell_type": "markdown",
   "id": "c3a2aed2-b451-4d72-9629-7cf35a4a67da",
   "metadata": {},
   "source": [
    "f. If $\\alpha$ is the angle between $\\textbf{v}$  and   $\\textbf{w}$, find $\\cos{\\alpha}$.<br>\n",
    "- $ cos\\alpha = \\frac{v \\cdot w}{\\left\\|v\\right\\| \\left\\|w\\right\\|} = \\frac{34}{7 \\sqrt{30}} $"
   ]
  },
  {
   "cell_type": "markdown",
   "id": "d52529f1-c42d-42e0-a8cc-9db28b22fdb9",
   "metadata": {},
   "source": [
    "g. If $\\beta$ is the angle between $\\textbf{u}$  and   $\\textbf{w}$, find $\\cos{\\beta}$.<br>\n",
    "- $ cos\\beta = \\frac{u \\cdot w}{\\left\\|u\\right\\| \\left\\|w\\right\\|} = \\frac{-27}{7 \\sqrt{26}} $"
   ]
  },
  {
   "cell_type": "markdown",
   "id": "e1516041-550d-4c1f-a6d9-b4c6f05e4b61",
   "metadata": {},
   "source": [
    "h. Find $d(\\textbf{u},\\textbf{v})$.<br>\n",
    "- $||u-v|| = \\left\\|\\begin{bmatrix}1 \\\\ 3\\\\ -4\\end{bmatrix} - \\begin{bmatrix}2 \\\\ 1\\\\ 5\\end{bmatrix}\\right\\| = \\left\\|\\begin{bmatrix}-1 \\\\ 2\\\\ -9\\end{bmatrix}\\right\\| = \\sqrt{(-1)^2 + 2^2 + (-9)^2} = \\sqrt{1+4+81} = \\sqrt{86}$"
   ]
  },
  {
   "cell_type": "markdown",
   "id": "008895a7-1251-4173-8526-84f27c9c020a",
   "metadata": {},
   "source": [
    "i. Find $d(\\textbf{w},\\textbf{v})$.<br>\n",
    "- $||w-v|| = \\left\\|\\begin{bmatrix}3 \\\\ -2\\\\ 6\\end{bmatrix} - \\begin{bmatrix}2 \\\\ 1\\\\ 5\\end{bmatrix}\\right\\| = \\left\\|\\begin{bmatrix}1 \\\\ -3\\\\ 1\\end{bmatrix}\\right\\| = \\sqrt{1^2 + (-3)^2 + 1^2} = \\sqrt{1+9+1} = \\sqrt{11}\n",
    "$"
   ]
  },
  {
   "cell_type": "markdown",
   "id": "168a8988-0e8e-46bf-84c0-fdbd6c607f69",
   "metadata": {},
   "source": [
    "j. Find $d(\\textbf{u},\\textbf{w})$. <br>\n",
    "- $||u-w|| = \\left\\|\\begin{bmatrix}1 \\\\ 3\\\\ -4\\end{bmatrix} - \\begin{bmatrix}3 \\\\ -2\\\\ 6\\end{bmatrix}\\right\\| = \\left\\|\\begin{bmatrix}-2 \\\\ 5\\\\ -10\\end{bmatrix}\\right\\| = \\sqrt{(-2)^2 + 5^2 + (-10)^2} = \\sqrt{4+25+100} = \\sqrt{129}\n",
    "$"
   ]
  },
  {
   "cell_type": "markdown",
   "id": "b636be3b-c1e2-472e-a758-5a707649747b",
   "metadata": {},
   "source": [
    "k. Find $proj(\\textbf{u},\\textbf{v})$.<br>\n",
    "- $proj(u,v) = \\frac{u \\cdot v}{\\|v\\|^2} \\cdot v = \\frac{-1}{2} \\cdot \\begin{bmatrix}2 \\\\ 1\\\\ 5\\end{bmatrix} = \\begin{bmatrix}-1\\\\ -\\frac{1}{2}\\\\ -\\frac{5}{2}\\end{bmatrix}$"
   ]
  },
  {
   "cell_type": "markdown",
   "id": "7d9af16e-1b4a-4a5b-a5fc-5b7ac329233e",
   "metadata": {},
   "source": [
    "l. Find $proj(\\textbf{w},\\textbf{v})$.<br>\n",
    "- $\\frac{w \\cdot v}{\\|v\\|^2} \\cdot v = \\frac{17}{15} \\cdot \\begin{bmatrix}2 \\\\ 1\\\\ 5\\end{bmatrix} = \\begin{bmatrix}\\frac{34}{15}\\\\ \\frac{17}{15}\\\\ \\frac{17}{3}\\end{bmatrix}$"
   ]
  },
  {
   "cell_type": "markdown",
   "id": "ece7cf24-925e-4190-9ea3-0f252aa4b049",
   "metadata": {},
   "source": [
    "m. Find $proj(\\textbf{u},\\textbf{w})$. <br>  \n",
    "- $\\frac{u \\cdot w}{\\|w\\|^2} \\cdot w = \\frac{-27}{49} \\cdot \\begin{bmatrix}3 \\\\ -2\\\\ 6\\end{bmatrix} = \\begin{bmatrix}\\frac{-81}{49}\\\\ \\frac{54}{49}\\\\ \\frac{-162}{49}\\end{bmatrix}$"
   ]
  },
  {
   "cell_type": "markdown",
   "id": "f8533d09-d03b-4259-8644-78bf4fcdfea1",
   "metadata": {},
   "source": [
    "#### <font color=\"red\">Pythonic Solution</font>"
   ]
  },
  {
   "cell_type": "code",
   "execution_count": 259,
   "id": "6d6082d7-5edd-4046-a418-58997c9efed6",
   "metadata": {},
   "outputs": [
    {
     "name": "stdout",
     "output_type": "stream",
     "text": [
      "a. 3𝐮-2𝐯:  [ -1   7 -22]\n",
      "b. 5𝐮+3𝐯-𝐰:  [ -1  26 -29]\n",
      "c. 𝐮.𝐯:  -15\n",
      "   𝐯.𝐰:  34\n",
      "   𝐮.𝐰:  -27\n",
      "d. ||𝐮||: 5.0990195135927845\n",
      "   ||𝐯||: 5.477225575051661\n",
      "   ||𝐰||: 7.0\n",
      "e. cos θ:  -0.5370861555295747\n",
      "f. cos α:  0.8867889026274118\n",
      "g. cos β:  -0.7564479498187099\n",
      "h. d(𝐮,𝐯):  9.273618495495704\n",
      "i. d(𝐰,𝐯):  3.3166247903554\n",
      "j. d(𝐮,𝐰):  11.357816691600547\n",
      "k. proj(𝐮,𝐯):  [-1.  -0.5 -2.5]\n",
      "l. proj(𝐰,𝐯):  [2.26666667 1.13333333 5.66666667]\n",
      "m. proj(𝐮,𝐰):  [-1.65306122  1.10204082 -3.30612245]\n"
     ]
    }
   ],
   "source": [
    "u = np.array([1, 3, -4])\n",
    "v = np.array([2, 1, 5])\n",
    "w = np.array([3, -2, 6])\n",
    "var = {'u': u, 'v': v, 'w': w, 'np': np}\n",
    "\n",
    "print(\"a. 3𝐮-2𝐯: \", eval(\"(3*u)-(2*v)\", var)) \n",
    "print(\"b. 5𝐮+3𝐯-𝐰: \", eval(\"(5*u)+(3*v)-(4*w)\", var)) \n",
    "print(\"c. 𝐮.𝐯: \", eval(\"u.dot(v)\", var)) \n",
    "print(\"   𝐯.𝐰: \", eval(\"v.dot(w)\", var)) \n",
    "print(\"   𝐮.𝐰: \", eval(\"u.dot(w)\", var)) \n",
    "print(\"d. ||𝐮||:\", eval(\"np.sqrt(u.dot(u))\", var)) \n",
    "print(\"   ||𝐯||:\", eval(\"np.sqrt(v.dot(v))\", var)) \n",
    "print(\"   ||𝐰||:\", eval(\"np.sqrt(w.dot(w))\", var)) \n",
    "print(\"e. cos θ: \", eval(\"u.dot(v)/(np.linalg.norm(u)*np.linalg.norm(v))\", var)) \n",
    "print(\"f. cos α: \", eval(\"v.dot(w)/(np.linalg.norm(v)*np.linalg.norm(w))\", var)) \n",
    "print(\"g. cos β: \", eval(\"u.dot(w)/(np.linalg.norm(u)*np.linalg.norm(w))\", var)) \n",
    "print(\"h. d(𝐮,𝐯): \", eval(\"np.linalg.norm(u-v)\", var)) \n",
    "print(\"i. d(𝐰,𝐯): \", eval(\"np.linalg.norm(w-v)\", var)) \n",
    "print(\"j. d(𝐮,𝐰): \", eval(\"np.linalg.norm(u-w)\", var)) \n",
    "print(\"k. proj(𝐮,𝐯): \", eval(\"u.dot(v)*v/(np.linalg.norm(v)**2)\", var)) \n",
    "print(\"l. proj(𝐰,𝐯): \", eval(\"w.dot(v)*v/(np.linalg.norm(v)**2)\", var)) \n",
    "print(\"m. proj(𝐮,𝐰): \", eval(\"u.dot(w)*w/(np.linalg.norm(w)**2)\", var)) "
   ]
  },
  {
   "cell_type": "markdown",
   "id": "602d40db-e40e-4814-b893-edce94a3ecca",
   "metadata": {},
   "source": [
    "---\n",
    "### 3. Let $\\textbf{u} = (2,-5,4,6,-3)$, $\\textbf{v} = (5,-2,1,-7,-4)$, and $\\textbf{w} = (2,1,-3)$ find:"
   ]
  },
  {
   "cell_type": "markdown",
   "id": "37e0aad1-c941-4880-b384-4a81bedf5c62",
   "metadata": {},
   "source": [
    "#### <font color=\"red\">Manual Solution</font>"
   ]
  },
  {
   "cell_type": "markdown",
   "id": "fbb90b63-02aa-436d-9fc7-9110ba69186b",
   "metadata": {},
   "source": [
    "a. $4\\textbf{u}-3\\textbf{v}$<br>\n",
    "- $4u' - 3v' = 4\\begin{bmatrix}2 \\\\ -5\\\\ 4 \\\\6 \\\\-3\\end{bmatrix} - 3\\begin{bmatrix}5 \\\\ -2\\\\ 1 \\\\-7 \\\\-4 \\end{bmatrix} = \\begin{bmatrix}8 \\\\ -20\\\\ 16 \\\\ 24 \\\\-12 \\end{bmatrix} - \\begin{bmatrix}15 \\\\ -6\\\\ 3 \\\\ -21 \\\\ -12\\end{bmatrix} = \\begin{bmatrix}-7 \\\\ -14\\\\ 13 \\\\ 45 \\\\ 0\\end{bmatrix} = (-7, -14, 13,45,0) $"
   ]
  },
  {
   "cell_type": "markdown",
   "id": "a03a310b-48de-403e-9d37-98cd0962d3cd",
   "metadata": {},
   "source": [
    "b. $5\\textbf{u}+2\\textbf{v}-2\\textbf{w}$ = <font color=\"red\">undefined </font>"
   ]
  },
  {
   "cell_type": "markdown",
   "id": "bf02d153-722f-412a-b7f9-108a61451e18",
   "metadata": {},
   "source": [
    "c. $\\textbf{u} \\cdotp \\textbf{v}$,$\\textbf{v} \\cdotp \\textbf{w}$, $\\textbf{u} \\cdotp \\textbf{w}$<br>\n",
    "- $u' \\cdot v' = \\begin{bmatrix}2 \\\\ -5\\\\ 4 \\\\ 6 \\\\ -3\\end{bmatrix} \\cdot \\begin{bmatrix}5 \\\\ -2\\\\ 1 \\\\ -7 \\\\ -4\\end{bmatrix} = \\begin{bmatrix}10 \\\\ 10\\\\ 4 \\\\ -42\\\\ 12\\end{bmatrix} = -6$ <br>\n",
    "    $v \\cdot w = $ <font color=\"red\">undefined </font>  <br>\n",
    "    $u \\cdot w = $ <font color=\"red\">undefined </font>"
   ]
  },
  {
   "cell_type": "markdown",
   "id": "04e04840-8ce6-4586-aa61-2bd072702a28",
   "metadata": {},
   "source": [
    "d. ||$\\textbf{u}$||, ||$\\textbf{v}$||, ||$\\textbf{w}$||<br>\n",
    "- $ ||u|| =  \\sqrt{2^2 + (-5)^2 + 4^2 + 6^2 + (-3)^2} = \\sqrt{4+25+16+36+9} = \\sqrt{90} $ <br>\n",
    "- $ ||v|| = \\sqrt{5^2 + (-2)^2 + 1^2 + (-7)^2 +(-4)^2} = \\sqrt{25+4+1+49+16} = \\sqrt{95} $ <br>\n",
    "- $ ||w|| = \\sqrt{2^2 + 1^2 + (-3)^2 + 0^2 +0^2} = \\sqrt{4+1+9} = \\sqrt{14}$"
   ]
  },
  {
   "cell_type": "markdown",
   "id": "adfb6c37-9501-42ee-bf09-f20b17b544fa",
   "metadata": {},
   "source": [
    "e. If $\\theta$ is the angle between $\\textbf{u}$  and   $\\textbf{v}$, find $\\cos{\\theta}$.<br>\n",
    "$ cos\\theta = \\frac{u \\cdot v}{\\left\\|u\\right\\| \\left\\|v\\right\\|} = \\frac{-6}{\\sqrt{90} \\sqrt{95}} $"
   ]
  },
  {
   "cell_type": "markdown",
   "id": "18ccccd4-d114-480e-95b0-712b6c65a582",
   "metadata": {},
   "source": [
    "f. If $\\alpha$ is the angle between $\\textbf{v}$  and   $\\textbf{w}$, find $\\cos{\\alpha}$. $cos\\alpha$ = <font color=\"red\">undefined </font>"
   ]
  },
  {
   "cell_type": "markdown",
   "id": "e34e5179-bafe-4873-b097-38f8ad3efac8",
   "metadata": {},
   "source": [
    "g. If $\\beta$ is the angle between $\\textbf{u}$  and   $\\textbf{w}$, find $\\cos{\\beta}$. $\\cos{\\beta}$ = <font color=\"red\">undefined </font>"
   ]
  },
  {
   "cell_type": "markdown",
   "id": "47889ad9-2ebd-42bf-a3c1-37b4b2bf27fb",
   "metadata": {},
   "source": [
    "h. Find $d(\\textbf{u},\\textbf{v})$.<br>\n",
    "- $||u-v|| = \\left\\|\\begin{bmatrix}2 \\\\ -5\\\\ 4 \\\\ 6 \\\\ -3\\end{bmatrix} - \\begin{bmatrix}5 \\\\ -2\\\\ 1 \\\\ -7 \\\\ -4\\end{bmatrix}\\right\\| = \\left\\|\\begin{bmatrix}-3 \\\\ -3\\\\ 3 \\\\ 13 \\\\ 1\\end{bmatrix}\\right\\| = \\sqrt{(-3)^2+(-3)^2 + 3^2 + 13^2 + 1^2} = \\sqrt{9+9+9+169+1} = \\sqrt{197}$"
   ]
  },
  {
   "cell_type": "markdown",
   "id": "ea793f47-f7b9-4b2e-ba44-70741a8e3275",
   "metadata": {},
   "source": [
    "i. Find $d(\\textbf{w},\\textbf{v})$.  $d(\\textbf{w},\\textbf{v})$ = <font color=\"red\">undefined </font>"
   ]
  },
  {
   "cell_type": "markdown",
   "id": "9bc79ce4-e146-4472-8a04-b5a9fbb933ed",
   "metadata": {},
   "source": [
    "j. Find $d(\\textbf{u},\\textbf{w})$. $d(\\textbf{u},\\textbf{w})$ = <font color=\"red\">undefined </font>"
   ]
  },
  {
   "cell_type": "markdown",
   "id": "0341bed9-bbe9-42ec-ba33-5566e5558829",
   "metadata": {},
   "source": [
    "k. Find $proj(\\textbf{u},\\textbf{v})$.<br>\n",
    "- $\\frac{u \\cdot v}{\\|v\\|^2} \\cdot v = \\frac{-6}{95} \\cdot \\begin{bmatrix}5 \\\\ -2\\\\ 1 \\\\ -7 \\\\ -4\\end{bmatrix} = (\\frac{-6}{19}, \\frac{12}{95}, \\frac{-6}{95}, \\frac{42}{95}, \\frac{24}{95})$"
   ]
  },
  {
   "cell_type": "markdown",
   "id": "dd10567e-9ccd-4ef2-b2c0-8bdcbc3d11e1",
   "metadata": {},
   "source": [
    "l. Find $proj(\\textbf{w},\\textbf{v})$. $proj(\\textbf{w},\\textbf{v})$ = <font color=\"red\">undefined </font>"
   ]
  },
  {
   "cell_type": "markdown",
   "id": "014d8b1d-28b9-4e76-9ebe-3d3af51d75bb",
   "metadata": {},
   "source": [
    "m. Find $proj(\\textbf{u},\\textbf{w})$. $proj(\\textbf{u},\\textbf{w})$ = <font color=\"red\">undefined </font>"
   ]
  },
  {
   "cell_type": "markdown",
   "id": "32b22833-5e46-4956-adc7-65f929e636fe",
   "metadata": {},
   "source": [
    "#### <font color=\"red\">Pythonic Solution</font>"
   ]
  },
  {
   "cell_type": "code",
   "execution_count": 260,
   "id": "e39782de-ad78-44fb-b586-ecb9caafb955",
   "metadata": {},
   "outputs": [
    {
     "name": "stdout",
     "output_type": "stream",
     "text": [
      "a. 4𝐮-3𝐯:  [ -7 -14  13  45   0]\n",
      "b. 5𝐮+2𝐯-2𝐰:  error\n",
      "c. 𝐮.𝐯:  -6\n",
      "   𝐯.𝐰:  error\n",
      "   𝐮.𝐰:  error\n",
      "d. ||𝐮||:  9.486832980505138\n",
      "   ||𝐯||:  9.746794344808963\n",
      "   ||𝐰||:  3.7416573867739413\n",
      "e. cos θ:  -0.06488856845230502\n",
      "f. cos α:  error\n",
      "g. cos β:  error\n",
      "h. d(𝐮,𝐯):  14.035668847618199\n",
      "i. d(𝐰,𝐯):  error\n",
      "j. d(𝐮,𝐰):  error\n",
      "k. proj(𝐮,𝐯):  [-0.31578947  0.12631579 -0.06315789  0.44210526  0.25263158]\n",
      "l. proj(𝐰,𝐯):  error\n",
      "m. proj(𝐮,𝐰):  error\n"
     ]
    }
   ],
   "source": [
    "u = np.array([2, -5, 4, 6, -3])\n",
    "v = np.array([5, -2, 1, -7, -4])\n",
    "w = np.array([2, 1, -3])\n",
    "var = {'u': u, 'v': v, 'w': w, 'np': np}\n",
    "\n",
    "print(\"a. 4𝐮-3𝐯: \", equ(\"4*u - 3*v\", var))\n",
    "print(\"b. 5𝐮+2𝐯-2𝐰: \", equ(\"5*u + 2*v - 2*w\", var))\n",
    "print(\"c. 𝐮.𝐯: \", equ(\"u.dot(v)\", var))\n",
    "print(\"   𝐯.𝐰: \", equ(\"v.dot(w)\", var))\n",
    "print(\"   𝐮.𝐰: \", equ(\"u.dot(w)\", var))\n",
    "print(\"d. ||𝐮||: \", equ(\"np.sqrt(u.dot(u))\", var))\n",
    "print(\"   ||𝐯||: \", equ(\"np.sqrt(v.dot(v))\", var))\n",
    "print(\"   ||𝐰||: \", equ(\"np.sqrt(w.dot(w))\", var))\n",
    "print(\"e. cos θ: \", equ(\"u.dot(v)/(np.linalg.norm(u)*np.linalg.norm(v))\", var))\n",
    "print(\"f. cos α: \", equ(\"u.dot(w)/(np.linalg.norm(v)*np.linalg.norm(w))\", var))\n",
    "print(\"g. cos β: \", equ(\"u.dot(w)/(np.linalg.norm(u)*np.linalg.norm(w))\", var))\n",
    "print(\"h. d(𝐮,𝐯): \", equ(\"np.linalg.norm(u-v)\", var))\n",
    "print(\"i. d(𝐰,𝐯): \", equ(\"np.linalg.norm(w-v)\", var))\n",
    "print(\"j. d(𝐮,𝐰): \", equ(\"np.linalg.norm(u-w)\", var))\n",
    "print(\"k. proj(𝐮,𝐯): \", equ(\"u.dot(v)*v/(np.linalg.norm(v)**2)\", var))\n",
    "print(\"l. proj(𝐰,𝐯): \", equ(\"w.dot(v)*v/(np.linalg.norm(v)**2)\", var))\n",
    "print(\"m. proj(𝐮,𝐰): \", equ(\"u.dot(w)*v/(np.linalg.norm(w)**2)\", var))"
   ]
  },
  {
   "cell_type": "markdown",
   "id": "7e86fe34-27d4-48e8-93b0-e5e7475bab54",
   "metadata": {},
   "source": [
    "---\n",
    "### 4. Normalize each vector:"
   ]
  },
  {
   "cell_type": "markdown",
   "id": "e525e28d-a467-4cf0-9881-4c21b6e5e4c9",
   "metadata": {},
   "source": [
    "#### <font color=\"red\">Manual Solution</font>"
   ]
  },
  {
   "cell_type": "markdown",
   "id": "f4b3fc20-8ce2-4593-a972-7a81ff5aad6e",
   "metadata": {},
   "source": [
    "a. $\\textbf{u}$ = (5,-7).<br>\n",
    "- $ \\|u\\| = \\sqrt{5^2 + (-7)^2} = \\sqrt{25+49} = \\sqrt{74} $ <br> \n",
    "$u' = \\frac{1}{||\\textbf{u}||} \\textbf{u} = \\frac{1}{\\sqrt{74}} \\cdot \\begin{bmatrix}5 \\\\ -7\\end{bmatrix} = (\\frac{5}{\\sqrt{74}} , \\frac{-7}{\\sqrt{74}}) $"
   ]
  },
  {
   "cell_type": "markdown",
   "id": "5749d848-ed45-4dba-af19-bb269bb5c3c5",
   "metadata": {},
   "source": [
    "b. $\\textbf{v}$ = (1,2,-2,4).<br>\n",
    "- $ \\|v\\| = \\sqrt{1^2 + 2^2 +(-2)^2 + 4^2} = \\sqrt{1+4+4+16} = \\sqrt{25} = 5$ <br> \n",
    "$v' = \\frac{1}{||\\textbf{v}||} \\textbf{v} = \\frac{1}{5} \\cdot \\begin{bmatrix}1 \\\\2 \\\\-2 \\\\ 4\\end{bmatrix} = (\\frac{1}{5} , \\frac{2}{5}, \\frac{-2}{5}, \\frac{4}{5}) $"
   ]
  },
  {
   "cell_type": "markdown",
   "id": "59e10886-235c-4f31-8df8-5052e933b10a",
   "metadata": {},
   "source": [
    "c. $\\textbf{w} = (\\frac{1}{2},\\frac{-1}{3},\\frac{3}{4})$.<br>\n",
    "- $ \\|w\\| = \\sqrt{(\\frac{1}{2})^2 + (\\frac{-1}{3})^2 +(\\frac{3}{4})^2} = \\sqrt{\\frac{1}{4}+\\frac{1}{9}+\\frac{9}{16}} = \\sqrt{\\frac{133}{144}} = \\frac{\\sqrt{133}}{12}$ <br> \n",
    "$w' = \\frac{1}{||\\textbf{w}||} \\textbf{w} = \\frac{12}{\\sqrt{133}} \\cdot \\begin{bmatrix}\\frac{1}{2} \\\\ \\frac{-1}{3} \\\\ \\frac{3}{4} \\end{bmatrix} = \\left(\\frac{12}{2\\sqrt{133}}, \\frac{-12}{3\\sqrt{133}}, \\frac{36}{4\\sqrt{133}}\\right) = \\left(\\frac{6}{\\sqrt{133}}, \\frac{-4}{\\sqrt{133}}, \\frac{9}{\\sqrt{133}}\\right) $"
   ]
  },
  {
   "cell_type": "markdown",
   "id": "4430aabf-51fd-4dd4-8bbe-b17861cf0d0b",
   "metadata": {},
   "source": [
    "#### <font color=\"red\">Pythonic Solution</font>"
   ]
  },
  {
   "cell_type": "code",
   "execution_count": 261,
   "id": "4ca53f01-0dc7-42b0-a89e-4bf7b3030a3b",
   "metadata": {},
   "outputs": [
    {
     "name": "stdout",
     "output_type": "stream",
     "text": [
      "a.  [ 0.58123819 -0.81373347]\n",
      "b.  [ 0.2  0.4 -0.4  0.8]\n",
      "c.  [ 0.52026598 -0.34684399  0.78039897]\n"
     ]
    }
   ],
   "source": [
    "u = np.array([5,-7])\n",
    "v = np.array([1,2,-2,4])\n",
    "w = np.array([(1/2),(-1/3),(3/4)])\n",
    "\n",
    "print(\"a. \", u/np.sqrt(u.dot(u)))\n",
    "print(\"b. \", v/np.sqrt(v.dot(v)))\n",
    "print(\"c. \", w/np.sqrt(w.dot(w)))"
   ]
  },
  {
   "cell_type": "markdown",
   "id": "568e96bb-ad03-49b4-a551-62bddcc7e3a3",
   "metadata": {},
   "source": [
    "---\n",
    "### 5. Let $\\textbf{u} = (1,2,-2)$,$\\textbf{v} = (3,-12,4)$ and a scalar $k = -3$:\n",
    "> #### Find $||u||, ||v||, ||u+v||, ||ku||$."
   ]
  },
  {
   "cell_type": "markdown",
   "id": "1793aa8e-98a1-4ae3-847c-56c831de6ad1",
   "metadata": {},
   "source": [
    "#### <font color=\"red\">Manual Solution</font>"
   ]
  },
  {
   "cell_type": "markdown",
   "id": "d71c2ad2-d6c4-4d00-a07a-39810a45ed6b",
   "metadata": {},
   "source": [
    "- $ \\|u\\| = \\sqrt{1^2 + 2^2 + (-2)^2} = \\sqrt{1+4+4} = \\sqrt{9} = 3$\n",
    "- $ \\|v\\| = \\sqrt{3^2+(-12)^2+4^2} = \\sqrt{9+144+16} = \\sqrt{169} = 13 $\n",
    "- $\\|u+v\\| = \\left\\| \\begin{bmatrix}1 \\\\2 \\\\-2 \\end{bmatrix} + \\begin{bmatrix}3 \\\\-12 \\\\4 \\end{bmatrix} \\right\\| = \\left\\|\\begin{bmatrix}4 \\\\-10 \\\\2 \\end{bmatrix} \\right\\| = \\sqrt{4^2 + (-10)^2 + 2^2} = \\sqrt{16+100+4} = \\sqrt{120}$\n",
    "- $\\|ku\\| = \\left\\| -3 \\cdot \\begin{bmatrix}1 \\\\2 \\\\-2 \\end{bmatrix} \\right\\| = \\left\\|\\begin{bmatrix}-3 \\\\-6 \\\\6 \\end{bmatrix} \\right\\| = \\sqrt{(-3)^2 + (-6)^2 + 6^2} = \\sqrt{9+36+36} = \\sqrt{81} = 9$"
   ]
  },
  {
   "cell_type": "markdown",
   "id": "84d78071-cc99-4ebc-9cb0-bce6201df499",
   "metadata": {},
   "source": [
    "#### <font color=\"red\">Pythonic Solution</font>"
   ]
  },
  {
   "cell_type": "code",
   "execution_count": 65,
   "id": "57994366-15f0-4dd9-b6e9-f8c6e677b953",
   "metadata": {},
   "outputs": [
    {
     "name": "stdout",
     "output_type": "stream",
     "text": [
      "||u||:  3.0\n",
      "||v||:  13.0\n",
      "||u+v||:  10.954451150103322\n",
      "||ku||:  9.0\n"
     ]
    }
   ],
   "source": [
    "u = np.array([1,2,-2])\n",
    "v = np.array([3,-12,4])\n",
    "k = -3\n",
    "print(\"||u||: \", np.sqrt(u.dot(u)))\n",
    "print(\"||v||: \", np.sqrt(v.dot(v)))\n",
    "print(\"||u+v||: \", np.sqrt((u+v).dot((u+v))))\n",
    "print(\"||ku||: \", np.sqrt((k*u).dot((k*u))))"
   ]
  },
  {
   "cell_type": "markdown",
   "id": "bf7d492d-9c9c-42e2-8932-b2ce12d7d9aa",
   "metadata": {},
   "source": [
    "---\n",
    "### 6. Find k so that $\\textbf{u}  \\ and \\  \\textbf{v}$ are orthogonal."
   ]
  },
  {
   "cell_type": "markdown",
   "id": "c18115b5-2f22-47ec-b31e-fd64eadc81c3",
   "metadata": {},
   "source": [
    "#### <font color=\"red\">Manual Solution</font>"
   ]
  },
  {
   "cell_type": "markdown",
   "id": "1b198ddb-49a0-40cb-b5a7-288aaf76909a",
   "metadata": {},
   "source": [
    "a. $\\textbf{u} = (3, k, -2), \\textbf{v} = (6, -4, -3)$.<br>\n",
    "- $ \\begin{bmatrix}3 \\\\k \\\\-2 \\end{bmatrix} \\cdot \\begin{bmatrix}6 \\\\-4 \\\\-3 \\end{bmatrix} = \\begin{bmatrix}18 \\\\-4k \\\\6 \\end{bmatrix} $ <br>\n",
    "$ 18-4k+ 6 = 0 $ <br> $18+6 = 4k $<br> $4k =24$ <br> $k = 6 $"
   ]
  },
  {
   "cell_type": "markdown",
   "id": "33f25f7a-8ec9-4f3d-af14-61fdae5cc1e0",
   "metadata": {},
   "source": [
    "b. $\\textbf{u} = (5,k,-4,2), \\textbf{v} = (1,-3,2,2k)$.<br>\n",
    "- $\\begin{bmatrix}5 \\\\k \\\\-4 \\\\2 \\end{bmatrix} \\cdot \\begin{bmatrix}1 \\\\-3 \\\\2 \\\\2k \\end{bmatrix} = \\begin{bmatrix}5 \\\\-3k \\\\-8 \\\\4k \\end{bmatrix} $ <br>\n",
    "$ 5-3k-8+4k = 0 $ <br> $-3k+4k = 8-5 $<br> $k =3$  "
   ]
  },
  {
   "cell_type": "markdown",
   "id": "be1f7817-400c-49c8-87bb-f661eb75dd61",
   "metadata": {},
   "source": [
    "c. $\\textbf{u} = (1,7,k+2,-2), \\textbf{v} = (3, k, -3,k)$.<br>\n",
    "- $\\begin{bmatrix}1 \\\\7 \\\\k+2 \\\\-2 \\end{bmatrix} \\cdot \\begin{bmatrix}3 \\\\k \\\\-3 \\\\k \\end{bmatrix} = \\begin{bmatrix}3 \\\\7k \\\\-3k-6 \\\\-2k \\end{bmatrix} $ <br>\n",
    "$ 3+7k-3k-6+2k = 0 $ <br> $3-6+7k-3k-2k = 0 $<br> $-3+2k = 0$ <br> $2k = 3$ <br> $k = \\frac{3}{2}$  "
   ]
  },
  {
   "cell_type": "markdown",
   "id": "bf58e05e-29ec-4052-8d40-a81552e58552",
   "metadata": {},
   "source": [
    "#### <font color=\"red\">Pythonic Solution</font>"
   ]
  },
  {
   "cell_type": "code",
   "execution_count": 271,
   "id": "1f844180-1b67-47c7-a592-15ba003d7f2e",
   "metadata": {},
   "outputs": [
    {
     "name": "stdout",
     "output_type": "stream",
     "text": [
      "|a: u = [3, k, -2] , v = [6, -4, -3]\n",
      "|    | k =  6\n",
      "|    | u =  [3, 6, -2]\n",
      "|    | v =  [6, -4, -3]\n",
      "|    | u . v =  0\n",
      "|-----------------------------------------------\n",
      "|b: u = [5, k, -4, 2] , v = [1, -3, 2, 2*k]\n",
      "|    | k =  3\n",
      "|    | u =  [5, 3, -4, 2]\n",
      "|    | v =  [1, -3, 2, 6]\n",
      "|    | u . v =  0\n",
      "|-----------------------------------------------\n",
      "|c: u = [1, 7, k + 2, -2] , v = [3, k, -3, k]\n",
      "|    | k =  3/2\n",
      "|    | u =  [1, 7, 7/2, -2]\n",
      "|    | v =  [3, 3/2, -3, 3/2]\n",
      "|    | u . v =  0\n"
     ]
    }
   ],
   "source": [
    "from sympy import symbols, Eq, solve\n",
    "\n",
    "def orth(u, v):\n",
    "    k = symbols('k')\n",
    "    lhs = 0 \n",
    "    for i in range(len(u)):\n",
    "        lhs += u[i] * v[i]\n",
    "    equation = Eq(lhs, 0)\n",
    "    solution = solve(equation, k);\n",
    "    for i in range(len(u)):\n",
    "        if not isinstance(u[i], (int, float)):\n",
    "            u[i] = u[i].subs(k, solution[0])\n",
    "            # ex = u[i]\n",
    "            # u[i] = ex.subs(k, solution)\n",
    "        if not isinstance(v[i], (int, float)):\n",
    "            v[i] = v[i].subs(k, solution[0])\n",
    "            # ex = v[i]\n",
    "            # v[i] = ex.subs(k, solution)\n",
    "    print(\"|    | k = \", solution[0])\n",
    "    print(\"|    | u = \", u)\n",
    "    print(\"|    | v = \", v)\n",
    "    print(\"|    | u . v = \", np.array(u).dot(np.array(v)))\n",
    "    \n",
    "\n",
    "u = [3, k, -2]\n",
    "v = [6, -4, -3]\n",
    "print(\"|a: u =\", u, \", v =\", v)\n",
    "orth(u, v)\n",
    "\n",
    "\n",
    "u = [5, k, -4, 2]\n",
    "v = [1, -3, 2, 2*k]\n",
    "print(\"|-----------------------------------------------\\n|b: u =\", u, \", v =\", v)\n",
    "orth(u, v)\n",
    "\n",
    "u = [1, 7, k+2, -2]\n",
    "v = [3, k, -3, k]\n",
    "print(\"|-----------------------------------------------\\n|c: u =\", u, \", v =\", v)\n",
    "orth(u, v)"
   ]
  },
  {
   "cell_type": "code",
   "execution_count": null,
   "id": "d72f1767-3107-455e-980d-13daa25a623c",
   "metadata": {},
   "outputs": [],
   "source": []
  }
 ],
 "metadata": {
  "kernelspec": {
   "display_name": "Python 3 (ipykernel)",
   "language": "python",
   "name": "python3"
  },
  "language_info": {
   "codemirror_mode": {
    "name": "ipython",
    "version": 3
   },
   "file_extension": ".py",
   "mimetype": "text/x-python",
   "name": "python",
   "nbconvert_exporter": "python",
   "pygments_lexer": "ipython3",
   "version": "3.11.5"
  }
 },
 "nbformat": 4,
 "nbformat_minor": 5
}
